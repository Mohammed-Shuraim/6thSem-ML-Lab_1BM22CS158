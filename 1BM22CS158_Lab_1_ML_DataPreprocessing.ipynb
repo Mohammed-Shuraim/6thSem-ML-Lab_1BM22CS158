{
  "nbformat": 4,
  "nbformat_minor": 0,
  "metadata": {
    "colab": {
      "provenance": []
    },
    "kernelspec": {
      "name": "python3",
      "display_name": "Python 3"
    },
    "language_info": {
      "name": "python"
    }
  },
  "cells": [
    {
      "cell_type": "markdown",
      "source": [
        "## Diabetes & adult income Dataset\n",
        "\n"
      ],
      "metadata": {
        "id": "I31EsAhTdrFa"
      }
    },
    {
      "cell_type": "code",
      "source": [
        "from google.colab import drive\n",
        "drive.mount('/content/drive')"
      ],
      "metadata": {
        "id": "bzCSIo4Nd6Mq"
      },
      "execution_count": null,
      "outputs": []
    },
    {
      "cell_type": "markdown",
      "source": [
        "\n",
        "Observations & Answers \\\\\n",
        "1️ Which columns in the dataset had missing values? How did you handle them?\n",
        "\n",
        "Diabetes Dataset: Numeric columns had missing values, which were filled with mean values.\n",
        "Adult Income Dataset: Some rows had missing values, which were dropped.\n",
        "\n",
        "2️ Which categorical columns did you identify? How did you encode them?\n",
        "\n",
        "Adult Income Dataset: Categorical columns like workclass, education, marital-status, etc. were encoded using LabelEncoder().\n",
        "\n",
        "3️ Difference Between Min-Max Scaling & Standardization\n",
        "\n",
        "Min-Max Scaling:\n",
        "\n",
        "Scales data between a fixed range (e.g., [0,1]).\n",
        "Preserves the shape of original distribution.\n",
        "Used when data does not follow a normal distribution.\n",
        "Standardization:\n",
        "\n",
        "Transforms data to have zero mean and unit variance.\n",
        "Useful when data follows a normal (Gaussian) distribution.\n",
        "Preferred for algorithms like SVM, PCA, and linear regression."
      ],
      "metadata": {
        "id": "whsFucyDpwUh"
      }
    },
    {
      "cell_type": "code",
      "source": [
        "import pandas as pd\n",
        "import numpy as np\n",
        "from sklearn.preprocessing import MinMaxScaler, StandardScaler, LabelEncoder, OneHotEncoder\n",
        "import seaborn as sns\n",
        "import matplotlib.pyplot as plt\n",
        "\n",
        "\n",
        "diabetes = pd.read_csv(\"/content/drive/MyDrive/MLlab dataset/Dataset of Diabetes .csv\")  # Update filename accordingly\n",
        "\n",
        "# Load Adult Income dataset\n",
        "adult_income = pd.read_csv(\"/content/drive/MyDrive/MLlab dataset/housing.csv\")  # Update filename accordingly\n",
        "\n",
        "# 1. Data Cleaning\n",
        "## Identify numeric and categorical columns\n",
        "numeric_cols = diabetes.select_dtypes(include=['number']).columns\n",
        "categorical_cols = diabetes.select_dtypes(include=['object']).columns\n",
        "\n",
        "## Handling Missing Values\n",
        "diabetes[numeric_cols] = diabetes[numeric_cols].fillna(diabetes[numeric_cols].mean())\n",
        "diabetes[categorical_cols] = diabetes[categorical_cols].fillna(diabetes[categorical_cols].mode().iloc[0])\n",
        "adult_income.dropna(inplace=True)  # Drop missing values in Adult dataset\n",
        "\n",
        "## Handling Categorical Data\n",
        "categorical_columns = adult_income.select_dtypes(include=['object']).columns\n",
        "label_encoders = {}\n",
        "for col in categorical_columns:\n",
        "    le = LabelEncoder()\n",
        "    adult_income[col] = le.fit_transform(adult_income[col])\n",
        "    label_encoders[col] = le  # Store encoder for inverse transform if needed\n",
        "\n",
        "## Handling Outliers using IQR method\n",
        "def remove_outliers(df, column):\n",
        "    Q1 = df[column].quantile(0.25)\n",
        "    Q3 = df[column].quantile(0.75)\n",
        "    IQR = Q3 - Q1\n",
        "    lower_bound = Q1 - 1.5 * IQR\n",
        "    upper_bound = Q3 + 1.5 * IQR\n",
        "    df[column] = np.where(df[column] < lower_bound, lower_bound, df[column])\n",
        "    df[column] = np.where(df[column] > upper_bound, upper_bound, df[column])\n",
        "    return df[column]  # Return only the processed column\n",
        "\n",
        "# Apply outlier removal only to numeric columns\n",
        "for col in numeric_cols:\n",
        "    diabetes[col] = remove_outliers(diabetes, col)\n",
        "\n",
        "# 2. Data Transformations\n",
        "## Min-Max Scaling\n",
        "minmax_scaler = MinMaxScaler()\n",
        "diabetes_scaled = pd.DataFrame(minmax_scaler.fit_transform(diabetes[numeric_cols]), columns=numeric_cols)\n",
        "adult_income_scaled = pd.DataFrame(minmax_scaler.fit_transform(adult_income), columns=adult_income.columns)\n",
        "\n",
        "## Standardization\n",
        "standard_scaler = StandardScaler()\n",
        "diabetes_standardized = pd.DataFrame(standard_scaler.fit_transform(diabetes[numeric_cols]), columns=numeric_cols)\n",
        "adult_income_standardized = pd.DataFrame(standard_scaler.fit_transform(adult_income), columns=adult_income.columns)\n",
        "\n",
        "# Save processed datasets\n",
        "diabetes_scaled.to_csv(\"diabetes_preprocessed.csv\", index=False)\n",
        "adult_income_scaled.to_csv(\"adult_income_preprocessed.csv\", index=False)\n",
        "\n",
        "print(\"Data preprocessing completed.\")\n"
      ],
      "metadata": {
        "colab": {
          "base_uri": "https://localhost:8080/"
        },
        "id": "vBRD287zoC8W",
        "outputId": "ea840c40-86b7-4432-971a-5dcf4c2c9d17"
      },
      "execution_count": 16,
      "outputs": [
        {
          "output_type": "stream",
          "name": "stdout",
          "text": [
            "Data preprocessing completed.\n"
          ]
        }
      ]
    },
    {
      "cell_type": "markdown",
      "source": [
        "## Show Missing Values Before & After Handling\n",
        "\n"
      ],
      "metadata": {
        "id": "2jhio9OimyFY"
      }
    },
    {
      "cell_type": "code",
      "source": [
        "# Before handling missing values\n",
        "print(\"Missing values before handling:\")\n",
        "print(\"Diabetes Dataset:\\n\", diabetes.isnull().sum())\n",
        "print(\"\\nAdult Income Dataset:\\n\", adult_income.isnull().sum())\n",
        "\n",
        "# After handling missing values\n",
        "print(\"\\nMissing values after handling:\")\n",
        "print(\"Diabetes Dataset:\\n\", diabetes.isnull().sum())\n",
        "print(\"\\nAdult Income Dataset:\\n\", adult_income.isnull().sum())\n"
      ],
      "metadata": {
        "colab": {
          "base_uri": "https://localhost:8080/"
        },
        "id": "KFcplk7PmpnN",
        "outputId": "63f137d8-22d3-4c32-a7cf-2d96ca5b1fe0"
      },
      "execution_count": 10,
      "outputs": [
        {
          "output_type": "stream",
          "name": "stdout",
          "text": [
            "Missing values before handling:\n",
            "Diabetes Dataset:\n",
            " ID           0\n",
            "No_Pation    0\n",
            "Gender       0\n",
            "AGE          0\n",
            "Urea         0\n",
            "Cr           0\n",
            "HbA1c        0\n",
            "Chol         0\n",
            "TG           0\n",
            "HDL          0\n",
            "LDL          0\n",
            "VLDL         0\n",
            "BMI          0\n",
            "CLASS        0\n",
            "dtype: int64\n",
            "\n",
            "Adult Income Dataset:\n",
            " age                0\n",
            "workclass          0\n",
            "fnlwgt             0\n",
            "education          0\n",
            "educational-num    0\n",
            "marital-status     0\n",
            "occupation         0\n",
            "relationship       0\n",
            "race               0\n",
            "gender             0\n",
            "capital-gain       0\n",
            "capital-loss       0\n",
            "hours-per-week     0\n",
            "native-country     0\n",
            "income             0\n",
            "dtype: int64\n",
            "\n",
            "Missing values after handling:\n",
            "Diabetes Dataset:\n",
            " ID           0\n",
            "No_Pation    0\n",
            "Gender       0\n",
            "AGE          0\n",
            "Urea         0\n",
            "Cr           0\n",
            "HbA1c        0\n",
            "Chol         0\n",
            "TG           0\n",
            "HDL          0\n",
            "LDL          0\n",
            "VLDL         0\n",
            "BMI          0\n",
            "CLASS        0\n",
            "dtype: int64\n",
            "\n",
            "Adult Income Dataset:\n",
            " age                0\n",
            "workclass          0\n",
            "fnlwgt             0\n",
            "education          0\n",
            "educational-num    0\n",
            "marital-status     0\n",
            "occupation         0\n",
            "relationship       0\n",
            "race               0\n",
            "gender             0\n",
            "capital-gain       0\n",
            "capital-loss       0\n",
            "hours-per-week     0\n",
            "native-country     0\n",
            "income             0\n",
            "dtype: int64\n"
          ]
        }
      ]
    },
    {
      "cell_type": "markdown",
      "source": [
        "## Show Categorical Encoding"
      ],
      "metadata": {
        "id": "zG444YAcnDco"
      }
    },
    {
      "cell_type": "code",
      "source": [
        "print(\"Categorical Columns in Adult Income Dataset:\\n\", categorical_columns)\n",
        "print(\"\\nEncoded Example:\\n\", adult_income.head())\n"
      ],
      "metadata": {
        "colab": {
          "base_uri": "https://localhost:8080/"
        },
        "id": "UnwYFp4Ym3jO",
        "outputId": "5e0f9c2d-06c8-4e0e-9af2-0061e5c4f6f9"
      },
      "execution_count": 11,
      "outputs": [
        {
          "output_type": "stream",
          "name": "stdout",
          "text": [
            "Categorical Columns in Adult Income Dataset:\n",
            " Index(['workclass', 'education', 'marital-status', 'occupation',\n",
            "       'relationship', 'race', 'gender', 'native-country', 'income'],\n",
            "      dtype='object')\n",
            "\n",
            "Encoded Example:\n",
            "    age  workclass  fnlwgt  education  educational-num  marital-status  \\\n",
            "0   25          4  226802          1                7               4   \n",
            "1   38          4   89814         11                9               2   \n",
            "2   28          2  336951          7               12               2   \n",
            "3   44          4  160323         15               10               2   \n",
            "4   18          0  103497         15               10               4   \n",
            "\n",
            "   occupation  relationship  race  gender  capital-gain  capital-loss  \\\n",
            "0           7             3     2       1             0             0   \n",
            "1           5             0     4       1             0             0   \n",
            "2          11             0     4       1             0             0   \n",
            "3           7             0     2       1          7688             0   \n",
            "4           0             3     4       0             0             0   \n",
            "\n",
            "   hours-per-week  native-country  income  \n",
            "0              40              39       0  \n",
            "1              50              39       0  \n",
            "2              40              39       1  \n",
            "3              40              39       1  \n",
            "4              30              39       0  \n"
          ]
        }
      ]
    },
    {
      "cell_type": "markdown",
      "source": [
        "## Before & After Scaling (Min-Max & Standardization)"
      ],
      "metadata": {
        "id": "tJAWc1PMnBnt"
      }
    },
    {
      "cell_type": "code",
      "source": [
        "print(\"Before Min-Max Scaling:\\n\", diabetes[numeric_cols].head())\n",
        "print(\"\\nAfter Min-Max Scaling:\\n\", diabetes_scaled.head())\n",
        "\n",
        "print(\"\\nBefore Standardization:\\n\", diabetes[numeric_cols].head())\n",
        "print(\"\\nAfter Standardization:\\n\", diabetes_standardized.head())\n"
      ],
      "metadata": {
        "colab": {
          "base_uri": "https://localhost:8080/"
        },
        "id": "Rp6v8iBHnMBn",
        "outputId": "7c821c64-0ad4-4924-dbce-1ac476a95322"
      },
      "execution_count": 12,
      "outputs": [
        {
          "output_type": "stream",
          "name": "stdout",
          "text": [
            "Before Min-Max Scaling:\n",
            "       ID  No_Pation   AGE  Urea    Cr  HbA1c  Chol   TG  HDL  LDL  VLDL   BMI\n",
            "0  502.0    17975.0  50.0   4.7  46.0    4.9   4.2  0.9  1.9  1.4   0.5  24.0\n",
            "1  735.0    34221.0  39.0   4.5  62.0    4.9   3.7  1.4  1.1  2.1   0.6  23.0\n",
            "2  420.0    47975.0  50.0   4.7  46.0    4.9   4.2  0.9  1.9  1.4   0.5  24.0\n",
            "3  680.0    77365.0  50.0   4.7  46.0    4.9   4.2  0.9  1.9  1.4   0.5  24.0\n",
            "4  504.0    34223.0  39.0   7.1  46.0    4.9   4.9  1.0  0.8  2.0   0.4  21.0\n",
            "\n",
            "After Min-Max Scaling:\n",
            "          ID  No_Pation      AGE   Urea     Cr     HbA1c      Chol        TG  \\\n",
            "0  0.627034   0.231118  0.34375  0.500  0.355  0.266892  0.406250  0.127660   \n",
            "1  0.918648   0.441444  0.00000  0.475  0.515  0.266892  0.328125  0.234043   \n",
            "2  0.524406   0.619508  0.34375  0.500  0.355  0.266892  0.406250  0.127660   \n",
            "3  0.849812   1.000000  0.34375  0.500  0.355  0.266892  0.406250  0.127660   \n",
            "4  0.629537   0.441470  0.00000  0.800  0.355  0.266892  0.515625  0.148936   \n",
            "\n",
            "      HDL       LDL      VLDL       BMI  \n",
            "0  1.0000  0.209524  0.153846  0.204082  \n",
            "1  0.5000  0.342857  0.192308  0.163265  \n",
            "2  1.0000  0.209524  0.153846  0.204082  \n",
            "3  1.0000  0.209524  0.153846  0.204082  \n",
            "4  0.3125  0.323810  0.115385  0.081633  \n",
            "\n",
            "Before Standardization:\n",
            "       ID  No_Pation   AGE  Urea    Cr  HbA1c  Chol   TG  HDL  LDL  VLDL   BMI\n",
            "0  502.0    17975.0  50.0   4.7  46.0    4.9   4.2  0.9  1.9  1.4   0.5  24.0\n",
            "1  735.0    34221.0  39.0   4.5  62.0    4.9   3.7  1.4  1.1  2.1   0.6  23.0\n",
            "2  420.0    47975.0  50.0   4.7  46.0    4.9   4.2  0.9  1.9  1.4   0.5  24.0\n",
            "3  680.0    77365.0  50.0   4.7  46.0    4.9   4.2  0.9  1.9  1.4   0.5  24.0\n",
            "4  504.0    34223.0  39.0   7.1  46.0    4.9   4.9  1.0  0.8  2.0   0.4  21.0\n",
            "\n",
            "After Standardization:\n",
            "          ID  No_Pation       AGE      Urea        Cr     HbA1c      Chol  \\\n",
            "0  0.672140  -0.919118 -0.541555 -0.074031 -0.805658 -1.335842 -0.532005   \n",
            "1  1.641852  -0.087690 -2.036062 -0.190760 -0.017005 -1.335842 -0.945425   \n",
            "2  0.330868   0.616204 -0.541555 -0.074031 -0.805658 -1.335842 -0.532005   \n",
            "3  1.412950   2.120307 -0.541555 -0.074031 -0.805658 -1.335842 -0.532005   \n",
            "4  0.680463  -0.087588 -2.036062  1.326714 -0.805658 -1.335842  0.046783   \n",
            "\n",
            "         TG       HDL       LDL      VLDL       BMI  \n",
            "0 -1.200206  2.174317 -1.146921 -1.021165 -1.130562  \n",
            "1 -0.765541 -0.121234 -0.473190 -0.861708 -1.333654  \n",
            "2 -1.200206  2.174317 -1.146921 -1.021165 -1.130562  \n",
            "3 -1.200206  2.174317 -1.146921 -1.021165 -1.130562  \n",
            "4 -1.113273 -0.982065 -0.569437 -1.180623 -1.739836  \n"
          ]
        }
      ]
    },
    {
      "cell_type": "markdown",
      "source": [
        "## Plot Outliers Before & After Removal"
      ],
      "metadata": {
        "id": "KTUeIjG1nUPh"
      }
    },
    {
      "cell_type": "code",
      "source": [
        "# Boxplot before outlier handling\n",
        "plt.figure(figsize=(12,6))\n",
        "sns.boxplot(data=diabetes[numeric_cols])\n",
        "plt.title(\"Before Outlier Handling\")\n",
        "plt.show()\n",
        "\n",
        "# Boxplot after outlier handling\n",
        "plt.figure(figsize=(12,6))\n",
        "sns.boxplot(data=diabetes[numeric_cols])\n",
        "plt.title(\"After Outlier Handling\")\n",
        "plt.show()\n"
      ],
      "metadata": {
        "colab": {
          "base_uri": "https://localhost:8080/",
          "height": 1000
        },
        "id": "IlQZVyATnUrx",
        "outputId": "1020dc97-3433-44e3-ac83-cd7e6e249215"
      },
      "execution_count": 13,
      "outputs": [
        {
          "output_type": "display_data",
          "data": {
            "text/plain": [
              "<Figure size 1200x600 with 1 Axes>"
            ],
            "image/png": "[encoded data removed]"
          },
          "metadata": {}
        },
        {
          "output_type": "display_data",
          "data": {
            "text/plain": [
              "<Figure size 1200x600 with 1 Axes>"
            ],
            "image/png": "[encoded data removed]"
          },
          "metadata": {}
        }
      ]
    },
    {
      "cell_type": "markdown",
      "source": [
        "##Save & Load Processed Data"
      ],
      "metadata": {
        "id": "XyejoAb5nd_Y"
      }
    },
    {
      "cell_type": "code",
      "source": [
        "# Save the preprocessed data\n",
        "diabetes_scaled.to_csv(\"diabetes_preprocessed.csv\", index=False)\n",
        "adult_income_scaled.to_csv(\"adult_income_preprocessed.csv\", index=False)\n",
        "\n",
        "# Load & display a preview\n",
        "df_diabetes_processed = pd.read_csv(\"diabetes_preprocessed.csv\")\n",
        "df_adult_processed = pd.read_csv(\"adult_income_preprocessed.csv\")\n",
        "\n",
        "print(\"Preview of Preprocessed Diabetes Data:\\n\", df_diabetes_processed.head())\n",
        "print(\"\\nPreview of Preprocessed Adult Income Data:\\n\", df_adult_processed.head())\n"
      ],
      "metadata": {
        "colab": {
          "base_uri": "https://localhost:8080/"
        },
        "id": "Hki1k_tJnhZ3",
        "outputId": "0580d556-ea9e-40a6-d744-7d4a817fc25a"
      },
      "execution_count": 14,
      "outputs": [
        {
          "output_type": "stream",
          "name": "stdout",
          "text": [
            "Preview of Preprocessed Diabetes Data:\n",
            "          ID  No_Pation      AGE   Urea     Cr     HbA1c      Chol        TG  \\\n",
            "0  0.627034   0.231118  0.34375  0.500  0.355  0.266892  0.406250  0.127660   \n",
            "1  0.918648   0.441444  0.00000  0.475  0.515  0.266892  0.328125  0.234043   \n",
            "2  0.524406   0.619508  0.34375  0.500  0.355  0.266892  0.406250  0.127660   \n",
            "3  0.849812   1.000000  0.34375  0.500  0.355  0.266892  0.406250  0.127660   \n",
            "4  0.629537   0.441470  0.00000  0.800  0.355  0.266892  0.515625  0.148936   \n",
            "\n",
            "      HDL       LDL      VLDL       BMI  \n",
            "0  1.0000  0.209524  0.153846  0.204082  \n",
            "1  0.5000  0.342857  0.192308  0.163265  \n",
            "2  1.0000  0.209524  0.153846  0.204082  \n",
            "3  1.0000  0.209524  0.153846  0.204082  \n",
            "4  0.3125  0.323810  0.115385  0.081633  \n",
            "\n",
            "Preview of Preprocessed Adult Income Data:\n",
            "         age  workclass    fnlwgt  education  educational-num  marital-status  \\\n",
            "0  0.109589       0.50  0.145129   0.066667         0.400000        0.666667   \n",
            "1  0.287671       0.50  0.052451   0.733333         0.533333        0.333333   \n",
            "2  0.150685       0.25  0.219649   0.466667         0.733333        0.333333   \n",
            "3  0.369863       0.50  0.100153   1.000000         0.600000        0.333333   \n",
            "4  0.013699       0.00  0.061708   1.000000         0.600000        0.666667   \n",
            "\n",
            "   occupation  relationship  race  gender  capital-gain  capital-loss  \\\n",
            "0    0.500000           0.6   0.5     1.0      0.000000           0.0   \n",
            "1    0.357143           0.0   1.0     1.0      0.000000           0.0   \n",
            "2    0.785714           0.0   1.0     1.0      0.000000           0.0   \n",
            "3    0.500000           0.0   0.5     1.0      0.076881           0.0   \n",
            "4    0.000000           0.6   1.0     0.0      0.000000           0.0   \n",
            "\n",
            "   hours-per-week  native-country  income  \n",
            "0        0.397959         0.95122     0.0  \n",
            "1        0.500000         0.95122     0.0  \n",
            "2        0.397959         0.95122     1.0  \n",
            "3        0.397959         0.95122     1.0  \n",
            "4        0.295918         0.95122     0.0  \n"
          ]
        }
      ]
    },
    {
      "cell_type": "markdown",
      "source": [
        "1. Data Cleaning\n",
        "\n",
        " Handling Missing Values:\n",
        "\n",
        "Diabetes Dataset:\n",
        "\n",
        "Numeric columns: Missing values are replaced with their mean using .fillna(diabetes[numeric_cols].mean()).\n",
        "\n",
        "Categorical columns: Missing values are replaced with their mode (most frequent value).\n",
        "\n",
        "Adult Income Dataset:\n",
        "\n",
        "All rows with missing values are dropped using adult_income.dropna(inplace=True).\n",
        "\n",
        " Handling Categorical Data:\n",
        "\n",
        "Used LabelEncoder() to convert categorical columns in the Adult Income dataset into numerical values.\n",
        "\n",
        " Handling Outliers:\n",
        "\n",
        "Used the IQR (Interquartile Range) method to detect and replace outliers with boundary values in numeric columns of the Diabetes dataset.\n",
        "\n",
        "2. Data Transformations\n",
        "\n",
        "\n",
        " Min-Max Scaling (Normalization)\n",
        "\n",
        "\n",
        "Applied to numeric columns in both datasets using MinMaxScaler().\n",
        "\n",
        " Standardization (Z-score scaling)\n",
        "\n",
        "Applied to numeric columns in both datasets using StandardScaler().\n"
      ],
      "metadata": {
        "id": "V38x30C_rBGQ"
      }
    },
    {
      "cell_type": "markdown",
      "source": [
        "##Housing"
      ],
      "metadata": {
        "id": "s4SEmWH9nqRx"
      }
    },
    {
      "cell_type": "code",
      "source": [
        "import pandas as pd\n",
        "import os\n",
        "\n",
        "# Define file path\n",
        "file_path = \"/content/drive/MyDrive/MLlab dataset/housing.csv\"\n",
        "\n",
        "# Check if the file exists before loading\n",
        "if os.path.exists(file_path):\n",
        "    df = pd.read_csv(file_path)\n",
        "    print(\"Loaded dataset from CSV file.\")\n",
        "else:\n",
        "    print(\"File not found! Check the file path.\")\n",
        "\n",
        "# Display information of all columns\n",
        "print(\"\\nDataset Info:\")\n",
        "print(df.info())\n",
        "\n",
        "# Display statistical information of all numerical columns\n",
        "print(\"\\nStatistical Summary:\")\n",
        "print(df.describe())\n",
        "\n",
        "# Check if \"Ocean Proximity\" exists (correcting column name case)\n",
        "column_name = \"ocean_proximity\" if \"ocean_proximity\" in df.columns else \"Ocean Proximity\"\n",
        "\n",
        "# Display the count of unique labels for “Ocean Proximity” column\n",
        "if column_name in df.columns:\n",
        "    print(\"\\nOcean Proximity Value Counts:\")\n",
        "    print(df[column_name].value_counts())\n",
        "else:\n",
        "    print(\"\\n'Ocean Proximity' column not found!\")\n",
        "\n",
        "# Display which attributes (columns) in a dataset have missing values count greater than zero\n",
        "missing_values = df.isnull().sum()[df.isnull().sum() > 0]\n",
        "\n",
        "print(\"\\nMissing Values in Dataset:\")\n",
        "if missing_values.empty:\n",
        "    print(\"No missing values found.\")\n",
        "else:\n",
        "    print(missing_values)"
      ],
      "metadata": {
        "colab": {
          "base_uri": "https://localhost:8080/"
        },
        "id": "rnImp0zoduYy",
        "outputId": "be575e41-48cb-44e0-ba0c-03b240bb5ec1"
      },
      "execution_count": null,
      "outputs": [
        {
          "output_type": "stream",
          "name": "stdout",
          "text": [
            "Loaded dataset from CSV file.\n",
            "\n",
            "Dataset Info:\n",
            "<class 'pandas.core.frame.DataFrame'>\n",
            "RangeIndex: 20640 entries, 0 to 20639\n",
            "Data columns (total 10 columns):\n",
            " #   Column              Non-Null Count  Dtype  \n",
            "---  ------              --------------  -----  \n",
            " 0   longitude           20640 non-null  float64\n",
            " 1   latitude            20640 non-null  float64\n",
            " 2   housing_median_age  20640 non-null  float64\n",
            " 3   total_rooms         20640 non-null  float64\n",
            " 4   total_bedrooms      20433 non-null  float64\n",
            " 5   population          20640 non-null  float64\n",
            " 6   households          20640 non-null  float64\n",
            " 7   median_income       20640 non-null  float64\n",
            " 8   median_house_value  20640 non-null  float64\n",
            " 9   ocean_proximity     20640 non-null  object \n",
            "dtypes: float64(9), object(1)\n",
            "memory usage: 1.6+ MB\n",
            "None\n",
            "\n",
            "Statistical Summary:\n",
            "          longitude      latitude  housing_median_age   total_rooms  \\\n",
            "count  20640.000000  20640.000000        20640.000000  20640.000000   \n",
            "mean    -119.569704     35.631861           28.639486   2635.763081   \n",
            "std        2.003532      2.135952           12.585558   2181.615252   \n",
            "min     -124.350000     32.540000            1.000000      2.000000   \n",
            "25%     -121.800000     33.930000           18.000000   1447.750000   \n",
            "50%     -118.490000     34.260000           29.000000   2127.000000   \n",
            "75%     -118.010000     37.710000           37.000000   3148.000000   \n",
            "max     -114.310000     41.950000           52.000000  39320.000000   \n",
            "\n",
            "       total_bedrooms    population    households  median_income  \\\n",
            "count    20433.000000  20640.000000  20640.000000   20640.000000   \n",
            "mean       537.870553   1425.476744    499.539680       3.870671   \n",
            "std        421.385070   1132.462122    382.329753       1.899822   \n",
            "min          1.000000      3.000000      1.000000       0.499900   \n",
            "25%        296.000000    787.000000    280.000000       2.563400   \n",
            "50%        435.000000   1166.000000    409.000000       3.534800   \n",
            "75%        647.000000   1725.000000    605.000000       4.743250   \n",
            "max       6445.000000  35682.000000   6082.000000      15.000100   \n",
            "\n",
            "       median_house_value  \n",
            "count        20640.000000  \n",
            "mean        206855.816909  \n",
            "std         115395.615874  \n",
            "min          14999.000000  \n",
            "25%         119600.000000  \n",
            "50%         179700.000000  \n",
            "75%         264725.000000  \n",
            "max         500001.000000  \n",
            "\n",
            "Ocean Proximity Value Counts:\n",
            "ocean_proximity\n",
            "<1H OCEAN     9136\n",
            "INLAND        6551\n",
            "NEAR OCEAN    2658\n",
            "NEAR BAY      2290\n",
            "ISLAND           5\n",
            "Name: count, dtype: int64\n",
            "\n",
            "Missing Values in Dataset:\n",
            "total_bedrooms    207\n",
            "dtype: int64\n"
          ]
        }
      ]
    }
  ]
}